{
 "cells": [
  {
   "cell_type": "markdown",
   "metadata": {},
   "source": [
    "# Monte Carlo Simulation and Electric Multipoles\n",
    "\n",
    "_Mikael Lund, 2017_\n",
    "\n",
    "This is a Jupyter notebook (http://jupyter.org) for studying the interaction between multipolar particles.\n",
    "The notebook can be run from a browser by first installing Jupyter through i.e. the Anaconda project\n",
    "(https://www.continuum.io).\n",
    "\n",
    "![image](multipole.png)"
   ]
  },
  {
   "cell_type": "markdown",
   "metadata": {},
   "source": [
    "### Load required packages"
   ]
  },
  {
   "cell_type": "code",
   "execution_count": null,
   "metadata": {
    "collapsed": true
   },
   "outputs": [],
   "source": [
    "from __future__ import division, unicode_literals, print_function\n",
    "import matplotlib as mpl\n",
    "import matplotlib.pyplot as plt\n",
    "%matplotlib inline\n",
    "import numpy as np\n",
    "import os.path, os, sys, json\n",
    "plt.rcParams.update({'font.size': 18, 'figure.figsize': [8.0, 6.0]})"
   ]
  },
  {
   "cell_type": "markdown",
   "metadata": {},
   "source": [
    "### Download the MC program \"Faunus\" and compile a particular version"
   ]
  },
  {
   "cell_type": "code",
   "execution_count": null,
   "metadata": {
    "collapsed": false
   },
   "outputs": [],
   "source": [
    "%%bash\n",
    "if [ ! -d \"faunus\" ]; then\n",
    "    git clone https://github.com/mlund/faunus.git\n",
    "    cd faunus\n",
    "    git checkout e2d7b625516f68343460948206f16f23a98eb868\n",
    "    git apply ../faunus.diff\n",
    "    CXX=clang++ CC=clang cmake -DCMAKE_BUILD_TYPE=Release .\n",
    "    make example_twobody\n",
    "else\n",
    "    cd faunus\n",
    "    make example_twobody\n",
    "fi"
   ]
  },
  {
   "cell_type": "markdown",
   "metadata": {},
   "source": [
    "### Create artificial \"molecules\" with multipolar moments\n",
    "Each molecule consists of a number of particles given by $x$, $y$, $z$ coordinates (column 6-8), charge (column 9), and radius (last column). The PQR file format is a variant of PDB and can be read by many molecular viewers."
   ]
  },
  {
   "cell_type": "code",
   "execution_count": null,
   "metadata": {
    "collapsed": false
   },
   "outputs": [],
   "source": [
    "%%writefile monopole.pqr\n",
    "ATOM      1 X    MP      1       0.000    0.000    0.000 -1.000 1.000"
   ]
  },
  {
   "cell_type": "code",
   "execution_count": null,
   "metadata": {
    "collapsed": false
   },
   "outputs": [],
   "source": [
    "%%writefile dipole.pqr\n",
    "ATOM      1 X    MP      1      -0.250    0.000    0.000 -3.000 1.000                               \n",
    "ATOM      2 X    MP      1       0.000    0.000    0.000  3.000 1.000    "
   ]
  },
  {
   "cell_type": "code",
   "execution_count": null,
   "metadata": {
    "collapsed": false
   },
   "outputs": [],
   "source": [
    "%%writefile quadrupole.pqr\n",
    "ATOM      1 X    MP      1       1.000    1.000    0.000  1.000 2.000\n",
    "ATOM      2 X    MP      1      -1.000   -1.000    0.000  1.000 2.000\n",
    "ATOM      3 X    MP      1       1.000   -1.000    0.000 -1.500 2.000\n",
    "ATOM      4 X    MP      1      -1.000    1.000    0.000 -1.000 2.000"
   ]
  },
  {
   "cell_type": "markdown",
   "metadata": {},
   "source": [
    "### Visualize multipoles"
   ]
  },
  {
   "cell_type": "code",
   "execution_count": null,
   "metadata": {
    "collapsed": false
   },
   "outputs": [],
   "source": [
    "plt.figure(figsize=plt.figaspect(1/3.))\n",
    "plt.gray()\n",
    "plt.figure(1)\n",
    "for name, pos in {'monopole':131, 'dipole':132, 'quadrupole':133}.iteritems():   \n",
    "    plt.subplot(pos)\n",
    "    plt.title(name)\n",
    "    plt.xticks([])\n",
    "    plt.yticks([])\n",
    "    plt.xlim((-3,3))\n",
    "    plt.ylim((-3,3))\n",
    "        \n",
    "    d = np.genfromtxt(name+'.pqr', invalid_raise=False, usecols=(5,6,8), unpack=True)\n",
    "    \n",
    "    norm = plt.Normalize()\n",
    "    colors = plt.cm.jet(norm(d[2]))\n",
    "    plt.scatter(d[0], d[1], s=10000, c=colors)"
   ]
  },
  {
   "cell_type": "markdown",
   "metadata": {},
   "source": [
    "### Run Monte Carlo Simulation (external program)"
   ]
  },
  {
   "cell_type": "code",
   "execution_count": null,
   "metadata": {
    "collapsed": false
   },
   "outputs": [],
   "source": [
    "len=20 # cylinder length\n",
    "js = {\n",
    "    \"energy\" : {\n",
    "        \"cmconstrain\" : { \"mol1 mol2\" : { \"mindist\": 0, \"maxdist\": 0.5*len } },\n",
    "        \"nonbonded\" : {\n",
    "            \"ljsimple\" : { \"eps\":0.005  },\n",
    "            \"coulomb\" : { \"epsr\" : 78.7, \"ionicstrength\" : 1e-20 }\n",
    "        }\n",
    "    },\n",
    "    \"atomlist\" : {\n",
    "        \"X\":  { \"q\":0,  \"r\":1.0 },\n",
    "        \"MP\":  { \"q\":0,  \"r\":1.0 }\n",
    "    },\n",
    "    \"moleculelist\": {\n",
    "        \"mol1\":  { \"structure\":\"monopole.pqr\", \"Ninit\":1, \"insdir\":\"0 0 1\" },\n",
    "        \"mol2\":  { \"structure\":\"dipole.pqr\", \"Ninit\":1, \"insdir\":\"0 0 1\" }\n",
    "    },\n",
    "    \"moves\" : {\n",
    "        \"moltransrot\" : {\n",
    "            \"mol1\" : { \"dp\":20, \"dprot\":3, \"prob\":1.0, \"permol\":True, \"dir\":\"0 0 1\"}, \n",
    "            \"mol2\" : { \"dp\":20, \"dprot\":3, \"prob\":1.0, \"permol\":True, \"dir\":\"0 0 1\"}\n",
    "        } \n",
    "    },\n",
    "    \"system\" : {\n",
    "        \"temperature\" : 298.15,\n",
    "        \"cylinder\" : { \"length\" : len, \"radius\" : 10 },\n",
    "        \"mcloop\"   : { \"macro\" : 10, \"micro\" : 100000 }\n",
    "    }\n",
    "}\n",
    "with open('twobody.json', 'w+') as f:\n",
    "    f.write(json.dumps(js, indent=4))\n",
    "\n",
    "!rm -f state\n",
    "!./faunus/src/examples/twobody"
   ]
  },
  {
   "cell_type": "markdown",
   "metadata": {},
   "source": [
    "### Plot electrostatic interaction energies"
   ]
  },
  {
   "cell_type": "code",
   "execution_count": null,
   "metadata": {
    "collapsed": false
   },
   "outputs": [],
   "source": [
    "r, u_exact, u_tot, u_ii, u_id, u_dd, u_iq = np.loadtxt('multipole.dat', unpack=True)\n",
    "\n",
    "plt.plot(r, u_exact, 'k-', label='exact', lw=8, ms=4.0, alpha=0.3)\n",
    "plt.plot(r, u_tot, 'k--', label='total', lw=3)\n",
    "plt.plot(r, u_ii, label='ion-ion', lw=3)\n",
    "plt.plot(r, u_id, 'ro', label='ion-dip', lw=3, ms=4.0)\n",
    "plt.plot(r, u_dd, label='dip-dip', lw=3)\n",
    "plt.plot(r, u_iq, label='ion-quad', lw=3)\n",
    "\n",
    "plt.legend(loc=0,frameon=False, fontsize=14)\n",
    "plt.ylabel(r'$u(R)/k_BT$')\n",
    "plt.xlabel(r'$R$/Å')\n",
    "plt.xlim((1,8))"
   ]
  },
  {
   "cell_type": "markdown",
   "metadata": {
    "collapsed": true
   },
   "source": [
    "### Let's compare with angularly averaged ion-dipole interaction\n",
    "\n",
    "The angularly averaged ion-dipole interaction free energy is,\n",
    "\n",
    "$$\n",
    "\\beta w(r)_{id} \\approx -\\frac{(l_BZ\\mu)^2}{6r^4}\n",
    "$$\n",
    "\n",
    "which we can now plot against the simulated potential of mean force,\n",
    "\n",
    "$$\n",
    "\\beta w(r)_{mc} = -\\ln g(r) + const\n",
    "$$\n",
    "\n",
    "Questions:\n",
    "0. Identify approximations in the multipole approximation\n",
    "0. what is the difference between $u(r)$ and $w(r)$ ?\n",
    "0. how could we fix the discrepancy at short separations ? (The analytical expression just becomes more and more attractive)"
   ]
  },
  {
   "cell_type": "code",
   "execution_count": null,
   "metadata": {
    "collapsed": false,
    "scrolled": true
   },
   "outputs": [],
   "source": [
    "def func_id(r, Z, mu):\n",
    "    ''' expression for the angularly averaged ion-dipole energy (approximate) '''\n",
    "    lB=7.0\n",
    "    return -(lB*Z*mu)**2 / (6*r**4) + (1.6/r)**12\n",
    "\n",
    "def func_id_exact(r, Z, mu):\n",
    "    ''' expression for the angularly averaged ion-dipole energy (exact) '''\n",
    "    lB=7.0\n",
    "    Emu = lB*Z/r**2 * mu\n",
    "    return -np.log(np.sinh(Emu)/Emu) + (1.6/r)**12\n",
    "\n",
    "r, g = np.loadtxt('rdf.dat', unpack=True)\n",
    "g = g / g[r>7].mean() # w(r)->0 for large r\n",
    "w = -np.log(g)        # Boltzmann inversion\n",
    "\n",
    "plt.plot( r, w, 'ro-', label='mc', lw=2 )\n",
    "plt.plot( r, func_id(r, 1, 0.75), label='perturbation', lw=3 )\n",
    "plt.plot( r, func_id_exact(r, 1, 0.75), label='exact', lw=3 )\n",
    "\n",
    "plt.xlim((1,6))\n",
    "plt.ylim((-3,2))\n",
    "plt.xlabel(r'$R$/Å')\n",
    "plt.ylabel(r'$w(R)/k_BT$')\n",
    "\n",
    "plt.legend(loc=0,frameon=False)"
   ]
  },
  {
   "cell_type": "code",
   "execution_count": null,
   "metadata": {
    "collapsed": true
   },
   "outputs": [],
   "source": []
  }
 ],
 "metadata": {
  "kernelspec": {
   "display_name": "Python [conda env:python2]",
   "language": "python",
   "name": "conda-env-python2-py"
  },
  "language_info": {
   "codemirror_mode": {
    "name": "ipython",
    "version": 2
   },
   "file_extension": ".py",
   "mimetype": "text/x-python",
   "name": "python",
   "nbconvert_exporter": "python",
   "pygments_lexer": "ipython2",
   "version": "2.7.13"
  }
 },
 "nbformat": 4,
 "nbformat_minor": 0
}
